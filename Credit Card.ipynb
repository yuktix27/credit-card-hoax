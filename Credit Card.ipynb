{
 "cells": [
  {
   "cell_type": "markdown",
   "id": "5195001d",
   "metadata": {},
   "source": [
    "# CREDIT CARD HOAX DETECTION"
   ]
  },
  {
   "cell_type": "markdown",
   "id": "4250f186",
   "metadata": {},
   "source": [
    "The dataset contains transactions made by credit cards in September 2013 by European cardholders.\n",
    "This dataset presents transactions that occurred in two days, where we have 492 frauds out of 284,807 transactions. The dataset is highly unbalanced, the positive class (frauds) account for 0.172% of all transactions.\n",
    "\n",
    "It contains only numerical input variables which are the result of a PCA transformation. Unfortunately, due to confidentiality issues, we cannot provide the original features and more background information about the data. Features V1, V2, … V28 are the principal components obtained with PCA, the only features which have not been transformed with PCA are 'Time' and 'Amount'. Feature 'Time' contains the seconds elapsed between each transaction and the first transaction in the dataset. The feature 'Amount' is the transaction Amount, this feature can be used for example-dependant cost-sensitive learning. Feature 'Class' is the response variable and it takes value 1 in case of fraud and 0 otherwise.\n",
    "\n",
    "In this project, we will start with exploratory data analysis (EDA) to get a better understanding of the data. Next, we will perform data processing and modeling, where we will build several classification models to predict fraudulent transactions. We will also address the issue of imbalanced classes by using undersampling. Finally, we will evaluate the performance of the models and choose the best one based on various evaluation metrics such as precision, recall, F1-score, and accuracy."
   ]
  },
  {
   "cell_type": "code",
   "execution_count": 3,
   "id": "516c2479",
   "metadata": {},
   "outputs": [],
   "source": [
    "# Import necessary libraries\n",
    "%matplotlib inline\n",
    "import scipy.stats as stats\n",
    "import numpy as np\n",
    "import pandas as pd\n",
    "import matplotlib.pyplot as plt\n",
    "import seaborn as sns\n",
    "from sklearn.preprocessing import StandardScaler\n",
    "from sklearn.model_selection import train_test_split\n",
    "\n",
    "from sklearn import linear_model\n",
    "from sklearn.ensemble import RandomForestClassifier\n",
    "from sklearn.dummy import DummyClassifier\n",
    "import sklearn.metrics as metrics\n",
    "from sklearn.metrics import confusion_matrix\n",
    "from sklearn.metrics import precision_score, recall_score, precision_recall_curve, f1_score, fbeta_score, accuracy_score"
   ]
  },
  {
   "cell_type": "code",
   "execution_count": 4,
   "id": "aac0f9fa",
   "metadata": {},
   "outputs": [
    {
     "ename": "FileNotFoundError",
     "evalue": "[Errno 2] No such file or directory: 'creditcard.csv'",
     "output_type": "error",
     "traceback": [
      "\u001b[1;31m---------------------------------------------------------------------------\u001b[0m",
      "\u001b[1;31mFileNotFoundError\u001b[0m                         Traceback (most recent call last)",
      "\u001b[1;32m~\\AppData\\Local\\Temp\\ipykernel_11868\\544752844.py\u001b[0m in \u001b[0;36m<module>\u001b[1;34m\u001b[0m\n\u001b[1;32m----> 1\u001b[1;33m \u001b[0mdf\u001b[0m \u001b[1;33m=\u001b[0m \u001b[0mpd\u001b[0m\u001b[1;33m.\u001b[0m\u001b[0mread_csv\u001b[0m\u001b[1;33m(\u001b[0m\u001b[1;34m'creditcard.csv'\u001b[0m\u001b[1;33m)\u001b[0m\u001b[1;33m\u001b[0m\u001b[1;33m\u001b[0m\u001b[0m\n\u001b[0m",
      "\u001b[1;32m~\\anaconda3\\lib\\site-packages\\pandas\\util\\_decorators.py\u001b[0m in \u001b[0;36mwrapper\u001b[1;34m(*args, **kwargs)\u001b[0m\n\u001b[0;32m    309\u001b[0m                     \u001b[0mstacklevel\u001b[0m\u001b[1;33m=\u001b[0m\u001b[0mstacklevel\u001b[0m\u001b[1;33m,\u001b[0m\u001b[1;33m\u001b[0m\u001b[1;33m\u001b[0m\u001b[0m\n\u001b[0;32m    310\u001b[0m                 )\n\u001b[1;32m--> 311\u001b[1;33m             \u001b[1;32mreturn\u001b[0m \u001b[0mfunc\u001b[0m\u001b[1;33m(\u001b[0m\u001b[1;33m*\u001b[0m\u001b[0margs\u001b[0m\u001b[1;33m,\u001b[0m \u001b[1;33m**\u001b[0m\u001b[0mkwargs\u001b[0m\u001b[1;33m)\u001b[0m\u001b[1;33m\u001b[0m\u001b[1;33m\u001b[0m\u001b[0m\n\u001b[0m\u001b[0;32m    312\u001b[0m \u001b[1;33m\u001b[0m\u001b[0m\n\u001b[0;32m    313\u001b[0m         \u001b[1;32mreturn\u001b[0m \u001b[0mwrapper\u001b[0m\u001b[1;33m\u001b[0m\u001b[1;33m\u001b[0m\u001b[0m\n",
      "\u001b[1;32m~\\anaconda3\\lib\\site-packages\\pandas\\io\\parsers\\readers.py\u001b[0m in \u001b[0;36mread_csv\u001b[1;34m(filepath_or_buffer, sep, delimiter, header, names, index_col, usecols, squeeze, prefix, mangle_dupe_cols, dtype, engine, converters, true_values, false_values, skipinitialspace, skiprows, skipfooter, nrows, na_values, keep_default_na, na_filter, verbose, skip_blank_lines, parse_dates, infer_datetime_format, keep_date_col, date_parser, dayfirst, cache_dates, iterator, chunksize, compression, thousands, decimal, lineterminator, quotechar, quoting, doublequote, escapechar, comment, encoding, encoding_errors, dialect, error_bad_lines, warn_bad_lines, on_bad_lines, delim_whitespace, low_memory, memory_map, float_precision, storage_options)\u001b[0m\n\u001b[0;32m    676\u001b[0m     \u001b[0mkwds\u001b[0m\u001b[1;33m.\u001b[0m\u001b[0mupdate\u001b[0m\u001b[1;33m(\u001b[0m\u001b[0mkwds_defaults\u001b[0m\u001b[1;33m)\u001b[0m\u001b[1;33m\u001b[0m\u001b[1;33m\u001b[0m\u001b[0m\n\u001b[0;32m    677\u001b[0m \u001b[1;33m\u001b[0m\u001b[0m\n\u001b[1;32m--> 678\u001b[1;33m     \u001b[1;32mreturn\u001b[0m \u001b[0m_read\u001b[0m\u001b[1;33m(\u001b[0m\u001b[0mfilepath_or_buffer\u001b[0m\u001b[1;33m,\u001b[0m \u001b[0mkwds\u001b[0m\u001b[1;33m)\u001b[0m\u001b[1;33m\u001b[0m\u001b[1;33m\u001b[0m\u001b[0m\n\u001b[0m\u001b[0;32m    679\u001b[0m \u001b[1;33m\u001b[0m\u001b[0m\n\u001b[0;32m    680\u001b[0m \u001b[1;33m\u001b[0m\u001b[0m\n",
      "\u001b[1;32m~\\anaconda3\\lib\\site-packages\\pandas\\io\\parsers\\readers.py\u001b[0m in \u001b[0;36m_read\u001b[1;34m(filepath_or_buffer, kwds)\u001b[0m\n\u001b[0;32m    573\u001b[0m \u001b[1;33m\u001b[0m\u001b[0m\n\u001b[0;32m    574\u001b[0m     \u001b[1;31m# Create the parser.\u001b[0m\u001b[1;33m\u001b[0m\u001b[1;33m\u001b[0m\u001b[0m\n\u001b[1;32m--> 575\u001b[1;33m     \u001b[0mparser\u001b[0m \u001b[1;33m=\u001b[0m \u001b[0mTextFileReader\u001b[0m\u001b[1;33m(\u001b[0m\u001b[0mfilepath_or_buffer\u001b[0m\u001b[1;33m,\u001b[0m \u001b[1;33m**\u001b[0m\u001b[0mkwds\u001b[0m\u001b[1;33m)\u001b[0m\u001b[1;33m\u001b[0m\u001b[1;33m\u001b[0m\u001b[0m\n\u001b[0m\u001b[0;32m    576\u001b[0m \u001b[1;33m\u001b[0m\u001b[0m\n\u001b[0;32m    577\u001b[0m     \u001b[1;32mif\u001b[0m \u001b[0mchunksize\u001b[0m \u001b[1;32mor\u001b[0m \u001b[0miterator\u001b[0m\u001b[1;33m:\u001b[0m\u001b[1;33m\u001b[0m\u001b[1;33m\u001b[0m\u001b[0m\n",
      "\u001b[1;32m~\\anaconda3\\lib\\site-packages\\pandas\\io\\parsers\\readers.py\u001b[0m in \u001b[0;36m__init__\u001b[1;34m(self, f, engine, **kwds)\u001b[0m\n\u001b[0;32m    930\u001b[0m \u001b[1;33m\u001b[0m\u001b[0m\n\u001b[0;32m    931\u001b[0m         \u001b[0mself\u001b[0m\u001b[1;33m.\u001b[0m\u001b[0mhandles\u001b[0m\u001b[1;33m:\u001b[0m \u001b[0mIOHandles\u001b[0m \u001b[1;33m|\u001b[0m \u001b[1;32mNone\u001b[0m \u001b[1;33m=\u001b[0m \u001b[1;32mNone\u001b[0m\u001b[1;33m\u001b[0m\u001b[1;33m\u001b[0m\u001b[0m\n\u001b[1;32m--> 932\u001b[1;33m         \u001b[0mself\u001b[0m\u001b[1;33m.\u001b[0m\u001b[0m_engine\u001b[0m \u001b[1;33m=\u001b[0m \u001b[0mself\u001b[0m\u001b[1;33m.\u001b[0m\u001b[0m_make_engine\u001b[0m\u001b[1;33m(\u001b[0m\u001b[0mf\u001b[0m\u001b[1;33m,\u001b[0m \u001b[0mself\u001b[0m\u001b[1;33m.\u001b[0m\u001b[0mengine\u001b[0m\u001b[1;33m)\u001b[0m\u001b[1;33m\u001b[0m\u001b[1;33m\u001b[0m\u001b[0m\n\u001b[0m\u001b[0;32m    933\u001b[0m \u001b[1;33m\u001b[0m\u001b[0m\n\u001b[0;32m    934\u001b[0m     \u001b[1;32mdef\u001b[0m \u001b[0mclose\u001b[0m\u001b[1;33m(\u001b[0m\u001b[0mself\u001b[0m\u001b[1;33m)\u001b[0m\u001b[1;33m:\u001b[0m\u001b[1;33m\u001b[0m\u001b[1;33m\u001b[0m\u001b[0m\n",
      "\u001b[1;32m~\\anaconda3\\lib\\site-packages\\pandas\\io\\parsers\\readers.py\u001b[0m in \u001b[0;36m_make_engine\u001b[1;34m(self, f, engine)\u001b[0m\n\u001b[0;32m   1214\u001b[0m             \u001b[1;31m# \"Union[str, PathLike[str], ReadCsvBuffer[bytes], ReadCsvBuffer[str]]\"\u001b[0m\u001b[1;33m\u001b[0m\u001b[1;33m\u001b[0m\u001b[0m\n\u001b[0;32m   1215\u001b[0m             \u001b[1;31m# , \"str\", \"bool\", \"Any\", \"Any\", \"Any\", \"Any\", \"Any\"\u001b[0m\u001b[1;33m\u001b[0m\u001b[1;33m\u001b[0m\u001b[0m\n\u001b[1;32m-> 1216\u001b[1;33m             self.handles = get_handle(  # type: ignore[call-overload]\n\u001b[0m\u001b[0;32m   1217\u001b[0m                 \u001b[0mf\u001b[0m\u001b[1;33m,\u001b[0m\u001b[1;33m\u001b[0m\u001b[1;33m\u001b[0m\u001b[0m\n\u001b[0;32m   1218\u001b[0m                 \u001b[0mmode\u001b[0m\u001b[1;33m,\u001b[0m\u001b[1;33m\u001b[0m\u001b[1;33m\u001b[0m\u001b[0m\n",
      "\u001b[1;32m~\\anaconda3\\lib\\site-packages\\pandas\\io\\common.py\u001b[0m in \u001b[0;36mget_handle\u001b[1;34m(path_or_buf, mode, encoding, compression, memory_map, is_text, errors, storage_options)\u001b[0m\n\u001b[0;32m    784\u001b[0m         \u001b[1;32mif\u001b[0m \u001b[0mioargs\u001b[0m\u001b[1;33m.\u001b[0m\u001b[0mencoding\u001b[0m \u001b[1;32mand\u001b[0m \u001b[1;34m\"b\"\u001b[0m \u001b[1;32mnot\u001b[0m \u001b[1;32min\u001b[0m \u001b[0mioargs\u001b[0m\u001b[1;33m.\u001b[0m\u001b[0mmode\u001b[0m\u001b[1;33m:\u001b[0m\u001b[1;33m\u001b[0m\u001b[1;33m\u001b[0m\u001b[0m\n\u001b[0;32m    785\u001b[0m             \u001b[1;31m# Encoding\u001b[0m\u001b[1;33m\u001b[0m\u001b[1;33m\u001b[0m\u001b[0m\n\u001b[1;32m--> 786\u001b[1;33m             handle = open(\n\u001b[0m\u001b[0;32m    787\u001b[0m                 \u001b[0mhandle\u001b[0m\u001b[1;33m,\u001b[0m\u001b[1;33m\u001b[0m\u001b[1;33m\u001b[0m\u001b[0m\n\u001b[0;32m    788\u001b[0m                 \u001b[0mioargs\u001b[0m\u001b[1;33m.\u001b[0m\u001b[0mmode\u001b[0m\u001b[1;33m,\u001b[0m\u001b[1;33m\u001b[0m\u001b[1;33m\u001b[0m\u001b[0m\n",
      "\u001b[1;31mFileNotFoundError\u001b[0m: [Errno 2] No such file or directory: 'creditcard.csv'"
     ]
    }
   ],
   "source": [
    "df = pd.read_csv('creditcard.csv')"
   ]
  },
  {
   "cell_type": "markdown",
   "id": "dbda20ef",
   "metadata": {},
   "source": [
    "## EXPLORATORY DATA ANALYSIS"
   ]
  },
  {
   "cell_type": "code",
   "execution_count": 3,
   "id": "919bc4f7",
   "metadata": {},
   "outputs": [
    {
     "data": {
      "text/html": [
       "<div>\n",
       "<style scoped>\n",
       "    .dataframe tbody tr th:only-of-type {\n",
       "        vertical-align: middle;\n",
       "    }\n",
       "\n",
       "    .dataframe tbody tr th {\n",
       "        vertical-align: top;\n",
       "    }\n",
       "\n",
       "    .dataframe thead th {\n",
       "        text-align: right;\n",
       "    }\n",
       "</style>\n",
       "<table border=\"1\" class=\"dataframe\">\n",
       "  <thead>\n",
       "    <tr style=\"text-align: right;\">\n",
       "      <th></th>\n",
       "      <th>Time</th>\n",
       "      <th>V1</th>\n",
       "      <th>V2</th>\n",
       "      <th>V3</th>\n",
       "      <th>V4</th>\n",
       "      <th>V5</th>\n",
       "      <th>V6</th>\n",
       "      <th>V7</th>\n",
       "      <th>V8</th>\n",
       "      <th>V9</th>\n",
       "      <th>...</th>\n",
       "      <th>V21</th>\n",
       "      <th>V22</th>\n",
       "      <th>V23</th>\n",
       "      <th>V24</th>\n",
       "      <th>V25</th>\n",
       "      <th>V26</th>\n",
       "      <th>V27</th>\n",
       "      <th>V28</th>\n",
       "      <th>Amount</th>\n",
       "      <th>Class</th>\n",
       "    </tr>\n",
       "  </thead>\n",
       "  <tbody>\n",
       "    <tr>\n",
       "      <th>247490</th>\n",
       "      <td>153593.0</td>\n",
       "      <td>-0.720471</td>\n",
       "      <td>-0.783012</td>\n",
       "      <td>1.485179</td>\n",
       "      <td>-2.756456</td>\n",
       "      <td>-0.614549</td>\n",
       "      <td>0.158707</td>\n",
       "      <td>-0.119227</td>\n",
       "      <td>0.142082</td>\n",
       "      <td>-2.503460</td>\n",
       "      <td>...</td>\n",
       "      <td>-0.041385</td>\n",
       "      <td>0.000159</td>\n",
       "      <td>-0.092738</td>\n",
       "      <td>0.669605</td>\n",
       "      <td>0.561647</td>\n",
       "      <td>-0.107404</td>\n",
       "      <td>0.001758</td>\n",
       "      <td>0.059060</td>\n",
       "      <td>99.40</td>\n",
       "      <td>0</td>\n",
       "    </tr>\n",
       "    <tr>\n",
       "      <th>115916</th>\n",
       "      <td>74070.0</td>\n",
       "      <td>1.040883</td>\n",
       "      <td>-0.393775</td>\n",
       "      <td>-0.064906</td>\n",
       "      <td>-0.842390</td>\n",
       "      <td>-0.441865</td>\n",
       "      <td>-0.877371</td>\n",
       "      <td>0.242547</td>\n",
       "      <td>-0.262548</td>\n",
       "      <td>0.935372</td>\n",
       "      <td>...</td>\n",
       "      <td>0.198965</td>\n",
       "      <td>0.551391</td>\n",
       "      <td>-0.244773</td>\n",
       "      <td>0.150537</td>\n",
       "      <td>0.723309</td>\n",
       "      <td>-0.580796</td>\n",
       "      <td>0.049056</td>\n",
       "      <td>0.039458</td>\n",
       "      <td>119.80</td>\n",
       "      <td>0</td>\n",
       "    </tr>\n",
       "    <tr>\n",
       "      <th>170570</th>\n",
       "      <td>120247.0</td>\n",
       "      <td>-0.727523</td>\n",
       "      <td>0.590562</td>\n",
       "      <td>1.161793</td>\n",
       "      <td>0.821456</td>\n",
       "      <td>0.188427</td>\n",
       "      <td>0.254625</td>\n",
       "      <td>0.221172</td>\n",
       "      <td>0.139245</td>\n",
       "      <td>0.051385</td>\n",
       "      <td>...</td>\n",
       "      <td>-0.057829</td>\n",
       "      <td>-0.219832</td>\n",
       "      <td>0.126697</td>\n",
       "      <td>-0.490851</td>\n",
       "      <td>-0.933429</td>\n",
       "      <td>-0.909737</td>\n",
       "      <td>-0.173332</td>\n",
       "      <td>0.321260</td>\n",
       "      <td>31.40</td>\n",
       "      <td>0</td>\n",
       "    </tr>\n",
       "    <tr>\n",
       "      <th>41084</th>\n",
       "      <td>40526.0</td>\n",
       "      <td>1.277275</td>\n",
       "      <td>-0.991641</td>\n",
       "      <td>0.530583</td>\n",
       "      <td>-0.815969</td>\n",
       "      <td>-1.075601</td>\n",
       "      <td>0.207389</td>\n",
       "      <td>-1.117068</td>\n",
       "      <td>0.173496</td>\n",
       "      <td>-0.185046</td>\n",
       "      <td>...</td>\n",
       "      <td>0.376648</td>\n",
       "      <td>0.897847</td>\n",
       "      <td>-0.214821</td>\n",
       "      <td>-0.750316</td>\n",
       "      <td>0.407622</td>\n",
       "      <td>0.030076</td>\n",
       "      <td>0.034873</td>\n",
       "      <td>0.021661</td>\n",
       "      <td>69.99</td>\n",
       "      <td>0</td>\n",
       "    </tr>\n",
       "    <tr>\n",
       "      <th>196141</th>\n",
       "      <td>131374.0</td>\n",
       "      <td>0.050043</td>\n",
       "      <td>0.849205</td>\n",
       "      <td>0.265843</td>\n",
       "      <td>-0.597594</td>\n",
       "      <td>0.422381</td>\n",
       "      <td>-1.102349</td>\n",
       "      <td>0.983577</td>\n",
       "      <td>-0.187944</td>\n",
       "      <td>0.000205</td>\n",
       "      <td>...</td>\n",
       "      <td>-0.268653</td>\n",
       "      <td>-0.603918</td>\n",
       "      <td>0.060394</td>\n",
       "      <td>-0.037988</td>\n",
       "      <td>-0.490610</td>\n",
       "      <td>0.143047</td>\n",
       "      <td>0.246088</td>\n",
       "      <td>0.096131</td>\n",
       "      <td>0.89</td>\n",
       "      <td>0</td>\n",
       "    </tr>\n",
       "    <tr>\n",
       "      <th>126333</th>\n",
       "      <td>77985.0</td>\n",
       "      <td>-3.339029</td>\n",
       "      <td>2.330076</td>\n",
       "      <td>0.558414</td>\n",
       "      <td>0.716446</td>\n",
       "      <td>-0.506675</td>\n",
       "      <td>-0.511691</td>\n",
       "      <td>0.487365</td>\n",
       "      <td>-0.249708</td>\n",
       "      <td>0.362949</td>\n",
       "      <td>...</td>\n",
       "      <td>0.181870</td>\n",
       "      <td>0.527313</td>\n",
       "      <td>-0.036222</td>\n",
       "      <td>0.651185</td>\n",
       "      <td>0.477700</td>\n",
       "      <td>-0.409633</td>\n",
       "      <td>-2.236628</td>\n",
       "      <td>-0.261678</td>\n",
       "      <td>22.40</td>\n",
       "      <td>0</td>\n",
       "    </tr>\n",
       "    <tr>\n",
       "      <th>52320</th>\n",
       "      <td>45386.0</td>\n",
       "      <td>1.219975</td>\n",
       "      <td>0.167234</td>\n",
       "      <td>0.383895</td>\n",
       "      <td>0.528342</td>\n",
       "      <td>-0.376446</td>\n",
       "      <td>-0.682994</td>\n",
       "      <td>-0.013884</td>\n",
       "      <td>-0.096325</td>\n",
       "      <td>-0.218752</td>\n",
       "      <td>...</td>\n",
       "      <td>0.098458</td>\n",
       "      <td>0.302602</td>\n",
       "      <td>-0.094744</td>\n",
       "      <td>0.381398</td>\n",
       "      <td>0.499853</td>\n",
       "      <td>0.410730</td>\n",
       "      <td>-0.037912</td>\n",
       "      <td>0.001714</td>\n",
       "      <td>5.90</td>\n",
       "      <td>0</td>\n",
       "    </tr>\n",
       "    <tr>\n",
       "      <th>58014</th>\n",
       "      <td>48191.0</td>\n",
       "      <td>1.279252</td>\n",
       "      <td>-0.205514</td>\n",
       "      <td>-1.065516</td>\n",
       "      <td>-0.333508</td>\n",
       "      <td>1.961197</td>\n",
       "      <td>3.547022</td>\n",
       "      <td>-0.602183</td>\n",
       "      <td>0.866913</td>\n",
       "      <td>0.344186</td>\n",
       "      <td>...</td>\n",
       "      <td>-0.283708</td>\n",
       "      <td>-0.799273</td>\n",
       "      <td>-0.025416</td>\n",
       "      <td>1.033412</td>\n",
       "      <td>0.609108</td>\n",
       "      <td>0.284247</td>\n",
       "      <td>-0.021336</td>\n",
       "      <td>0.006677</td>\n",
       "      <td>11.08</td>\n",
       "      <td>0</td>\n",
       "    </tr>\n",
       "    <tr>\n",
       "      <th>29114</th>\n",
       "      <td>35328.0</td>\n",
       "      <td>-2.280510</td>\n",
       "      <td>-1.270713</td>\n",
       "      <td>-0.343805</td>\n",
       "      <td>-1.115166</td>\n",
       "      <td>-4.501903</td>\n",
       "      <td>2.785883</td>\n",
       "      <td>2.251862</td>\n",
       "      <td>-4.248874</td>\n",
       "      <td>-0.789066</td>\n",
       "      <td>...</td>\n",
       "      <td>-1.572430</td>\n",
       "      <td>0.599341</td>\n",
       "      <td>-7.474414</td>\n",
       "      <td>0.786035</td>\n",
       "      <td>-2.174441</td>\n",
       "      <td>-0.552313</td>\n",
       "      <td>1.226567</td>\n",
       "      <td>-0.738261</td>\n",
       "      <td>1762.20</td>\n",
       "      <td>0</td>\n",
       "    </tr>\n",
       "    <tr>\n",
       "      <th>260382</th>\n",
       "      <td>159534.0</td>\n",
       "      <td>2.015218</td>\n",
       "      <td>-0.329000</td>\n",
       "      <td>-0.285154</td>\n",
       "      <td>0.127584</td>\n",
       "      <td>-0.794922</td>\n",
       "      <td>-0.890876</td>\n",
       "      <td>-0.499988</td>\n",
       "      <td>-0.106376</td>\n",
       "      <td>1.267396</td>\n",
       "      <td>...</td>\n",
       "      <td>-0.145983</td>\n",
       "      <td>-0.304495</td>\n",
       "      <td>0.391273</td>\n",
       "      <td>0.015228</td>\n",
       "      <td>-0.522084</td>\n",
       "      <td>-0.270128</td>\n",
       "      <td>0.008044</td>\n",
       "      <td>-0.036308</td>\n",
       "      <td>1.00</td>\n",
       "      <td>0</td>\n",
       "    </tr>\n",
       "  </tbody>\n",
       "</table>\n",
       "<p>10 rows × 31 columns</p>\n",
       "</div>"
      ],
      "text/plain": [
       "            Time        V1        V2        V3        V4        V5        V6  \\\n",
       "247490  153593.0 -0.720471 -0.783012  1.485179 -2.756456 -0.614549  0.158707   \n",
       "115916   74070.0  1.040883 -0.393775 -0.064906 -0.842390 -0.441865 -0.877371   \n",
       "170570  120247.0 -0.727523  0.590562  1.161793  0.821456  0.188427  0.254625   \n",
       "41084    40526.0  1.277275 -0.991641  0.530583 -0.815969 -1.075601  0.207389   \n",
       "196141  131374.0  0.050043  0.849205  0.265843 -0.597594  0.422381 -1.102349   \n",
       "126333   77985.0 -3.339029  2.330076  0.558414  0.716446 -0.506675 -0.511691   \n",
       "52320    45386.0  1.219975  0.167234  0.383895  0.528342 -0.376446 -0.682994   \n",
       "58014    48191.0  1.279252 -0.205514 -1.065516 -0.333508  1.961197  3.547022   \n",
       "29114    35328.0 -2.280510 -1.270713 -0.343805 -1.115166 -4.501903  2.785883   \n",
       "260382  159534.0  2.015218 -0.329000 -0.285154  0.127584 -0.794922 -0.890876   \n",
       "\n",
       "              V7        V8        V9  ...       V21       V22       V23  \\\n",
       "247490 -0.119227  0.142082 -2.503460  ... -0.041385  0.000159 -0.092738   \n",
       "115916  0.242547 -0.262548  0.935372  ...  0.198965  0.551391 -0.244773   \n",
       "170570  0.221172  0.139245  0.051385  ... -0.057829 -0.219832  0.126697   \n",
       "41084  -1.117068  0.173496 -0.185046  ...  0.376648  0.897847 -0.214821   \n",
       "196141  0.983577 -0.187944  0.000205  ... -0.268653 -0.603918  0.060394   \n",
       "126333  0.487365 -0.249708  0.362949  ...  0.181870  0.527313 -0.036222   \n",
       "52320  -0.013884 -0.096325 -0.218752  ...  0.098458  0.302602 -0.094744   \n",
       "58014  -0.602183  0.866913  0.344186  ... -0.283708 -0.799273 -0.025416   \n",
       "29114   2.251862 -4.248874 -0.789066  ... -1.572430  0.599341 -7.474414   \n",
       "260382 -0.499988 -0.106376  1.267396  ... -0.145983 -0.304495  0.391273   \n",
       "\n",
       "             V24       V25       V26       V27       V28   Amount  Class  \n",
       "247490  0.669605  0.561647 -0.107404  0.001758  0.059060    99.40      0  \n",
       "115916  0.150537  0.723309 -0.580796  0.049056  0.039458   119.80      0  \n",
       "170570 -0.490851 -0.933429 -0.909737 -0.173332  0.321260    31.40      0  \n",
       "41084  -0.750316  0.407622  0.030076  0.034873  0.021661    69.99      0  \n",
       "196141 -0.037988 -0.490610  0.143047  0.246088  0.096131     0.89      0  \n",
       "126333  0.651185  0.477700 -0.409633 -2.236628 -0.261678    22.40      0  \n",
       "52320   0.381398  0.499853  0.410730 -0.037912  0.001714     5.90      0  \n",
       "58014   1.033412  0.609108  0.284247 -0.021336  0.006677    11.08      0  \n",
       "29114   0.786035 -2.174441 -0.552313  1.226567 -0.738261  1762.20      0  \n",
       "260382  0.015228 -0.522084 -0.270128  0.008044 -0.036308     1.00      0  \n",
       "\n",
       "[10 rows x 31 columns]"
      ]
     },
     "execution_count": 3,
     "metadata": {},
     "output_type": "execute_result"
    }
   ],
   "source": [
    "# Printing random sample of 10 rows to check data loading\n",
    "df.sample(10)"
   ]
  },
  {
   "cell_type": "markdown",
   "id": "601a0a4e",
   "metadata": {},
   "source": [
    "We can only work with three non-transformed variables which are Time, Amount, and Class (where Class takes values of 1 for fraud and 0 for not fraud)."
   ]
  },
  {
   "cell_type": "code",
   "execution_count": 4,
   "id": "3c2fb17c",
   "metadata": {},
   "outputs": [
    {
     "name": "stdout",
     "output_type": "stream",
     "text": [
      "<class 'pandas.core.frame.DataFrame'>\n",
      "RangeIndex: 284807 entries, 0 to 284806\n",
      "Data columns (total 31 columns):\n",
      " #   Column  Non-Null Count   Dtype  \n",
      "---  ------  --------------   -----  \n",
      " 0   Time    284807 non-null  float64\n",
      " 1   V1      284807 non-null  float64\n",
      " 2   V2      284807 non-null  float64\n",
      " 3   V3      284807 non-null  float64\n",
      " 4   V4      284807 non-null  float64\n",
      " 5   V5      284807 non-null  float64\n",
      " 6   V6      284807 non-null  float64\n",
      " 7   V7      284807 non-null  float64\n",
      " 8   V8      284807 non-null  float64\n",
      " 9   V9      284807 non-null  float64\n",
      " 10  V10     284807 non-null  float64\n",
      " 11  V11     284807 non-null  float64\n",
      " 12  V12     284807 non-null  float64\n",
      " 13  V13     284807 non-null  float64\n",
      " 14  V14     284807 non-null  float64\n",
      " 15  V15     284807 non-null  float64\n",
      " 16  V16     284807 non-null  float64\n",
      " 17  V17     284807 non-null  float64\n",
      " 18  V18     284807 non-null  float64\n",
      " 19  V19     284807 non-null  float64\n",
      " 20  V20     284807 non-null  float64\n",
      " 21  V21     284807 non-null  float64\n",
      " 22  V22     284807 non-null  float64\n",
      " 23  V23     284807 non-null  float64\n",
      " 24  V24     284807 non-null  float64\n",
      " 25  V25     284807 non-null  float64\n",
      " 26  V26     284807 non-null  float64\n",
      " 27  V27     284807 non-null  float64\n",
      " 28  V28     284807 non-null  float64\n",
      " 29  Amount  284807 non-null  float64\n",
      " 30  Class   284807 non-null  int64  \n",
      "dtypes: float64(30), int64(1)\n",
      "memory usage: 67.4 MB\n"
     ]
    }
   ],
   "source": [
    "df.info()"
   ]
  },
  {
   "cell_type": "code",
   "execution_count": 5,
   "id": "2b3b6863",
   "metadata": {},
   "outputs": [
    {
     "data": {
      "text/html": [
       "<div>\n",
       "<style scoped>\n",
       "    .dataframe tbody tr th:only-of-type {\n",
       "        vertical-align: middle;\n",
       "    }\n",
       "\n",
       "    .dataframe tbody tr th {\n",
       "        vertical-align: top;\n",
       "    }\n",
       "\n",
       "    .dataframe thead th {\n",
       "        text-align: right;\n",
       "    }\n",
       "</style>\n",
       "<table border=\"1\" class=\"dataframe\">\n",
       "  <thead>\n",
       "    <tr style=\"text-align: right;\">\n",
       "      <th></th>\n",
       "      <th>Time</th>\n",
       "      <th>Amount</th>\n",
       "    </tr>\n",
       "  </thead>\n",
       "  <tbody>\n",
       "    <tr>\n",
       "      <th>count</th>\n",
       "      <td>284807.000000</td>\n",
       "      <td>284807.000000</td>\n",
       "    </tr>\n",
       "    <tr>\n",
       "      <th>mean</th>\n",
       "      <td>94813.859575</td>\n",
       "      <td>88.349619</td>\n",
       "    </tr>\n",
       "    <tr>\n",
       "      <th>std</th>\n",
       "      <td>47488.145955</td>\n",
       "      <td>250.120109</td>\n",
       "    </tr>\n",
       "    <tr>\n",
       "      <th>min</th>\n",
       "      <td>0.000000</td>\n",
       "      <td>0.000000</td>\n",
       "    </tr>\n",
       "    <tr>\n",
       "      <th>25%</th>\n",
       "      <td>54201.500000</td>\n",
       "      <td>5.600000</td>\n",
       "    </tr>\n",
       "    <tr>\n",
       "      <th>50%</th>\n",
       "      <td>84692.000000</td>\n",
       "      <td>22.000000</td>\n",
       "    </tr>\n",
       "    <tr>\n",
       "      <th>75%</th>\n",
       "      <td>139320.500000</td>\n",
       "      <td>77.165000</td>\n",
       "    </tr>\n",
       "    <tr>\n",
       "      <th>max</th>\n",
       "      <td>172792.000000</td>\n",
       "      <td>25691.160000</td>\n",
       "    </tr>\n",
       "  </tbody>\n",
       "</table>\n",
       "</div>"
      ],
      "text/plain": [
       "                Time         Amount\n",
       "count  284807.000000  284807.000000\n",
       "mean    94813.859575      88.349619\n",
       "std     47488.145955     250.120109\n",
       "min         0.000000       0.000000\n",
       "25%     54201.500000       5.600000\n",
       "50%     84692.000000      22.000000\n",
       "75%    139320.500000      77.165000\n",
       "max    172792.000000   25691.160000"
      ]
     },
     "execution_count": 5,
     "metadata": {},
     "output_type": "execute_result"
    }
   ],
   "source": [
    "# Printing numerical summary for Time and Amount columns\n",
    "df.loc[:, ['Time', 'Amount']].describe()"
   ]
  },
  {
   "cell_type": "code",
   "execution_count": 74,
   "id": "7d66fc71",
   "metadata": {},
   "outputs": [
    {
     "name": "stderr",
     "output_type": "stream",
     "text": [
      "C:\\Users\\yukti\\anaconda3\\lib\\site-packages\\seaborn\\distributions.py:2619: FutureWarning: `distplot` is a deprecated function and will be removed in a future version. Please adapt your code to use either `displot` (a figure-level function with similar flexibility) or `histplot` (an axes-level function for histograms).\n",
      "  warnings.warn(msg, FutureWarning)\n"
     ]
    },
    {
     "data": {
      "text/plain": [
       "<AxesSubplot:title={'center':'Time Distribution (Seconds)'}, xlabel='Time', ylabel='Density'>"
      ]
     },
     "execution_count": 74,
     "metadata": {},
     "output_type": "execute_result"
    },
    {
     "data": {
      "image/png": "[encoded data removed]",
      "text/plain": [
       "<Figure size 1000x800 with 1 Axes>"
      ]
     },
     "metadata": {},
     "output_type": "display_data"
    }
   ],
   "source": [
    "#Histogram Plot of Time column\n",
    "plt.figure(figsize=(10,8), )\n",
    "plt.title('Time Distribution (Seconds)')\n",
    "sns.distplot(df['Time'], color='blue')"
   ]
  },
  {
   "cell_type": "markdown",
   "id": "e605c055",
   "metadata": {},
   "source": [
    "From the plot, we can observe that the Time feature has a bimodal distribution with two peaks, indicating that there are two periods during the day when credit card transactions are more frequent. The first peak occurs at around 50,000 seconds (approximately 14 hours), while the second peak occurs at around 120,000 seconds (approximately 33 hours). This suggests that there may be a pattern in the timing of credit card transactions that could be useful for fraud detection."
   ]
  },
  {
   "cell_type": "code",
   "execution_count": 6,
   "id": "a570c86b",
   "metadata": {},
   "outputs": [
    {
     "name": "stderr",
     "output_type": "stream",
     "text": [
      "C:\\Users\\yukti\\anaconda3\\lib\\site-packages\\seaborn\\distributions.py:2619: FutureWarning: `distplot` is a deprecated function and will be removed in a future version. Please adapt your code to use either `displot` (a figure-level function with similar flexibility) or `histplot` (an axes-level function for histograms).\n",
      "  warnings.warn(msg, FutureWarning)\n"
     ]
    },
    {
     "data": {
      "text/plain": [
       "<AxesSubplot:title={'center':'Distribution of Amount'}, xlabel='Amount', ylabel='Density'>"
      ]
     },
     "execution_count": 6,
     "metadata": {},
     "output_type": "execute_result"
    },
    {
     "data": {
      "image/png": "[encoded data removed]",
      "text/plain": [
       "<Figure size 1000x800 with 1 Axes>"
      ]
     },
     "metadata": {},
     "output_type": "display_data"
    }
   ],
   "source": [
    "#Histogram plot of Amount column\n",
    "plt.figure(figsize=(10,8))\n",
    "plt.title('Distribution of Amount')\n",
    "sns.distplot(df['Amount'], color='blue')"
   ]
  },
  {
   "cell_type": "markdown",
   "id": "9b06427d",
   "metadata": {},
   "source": [
    "From the plot, we can observe that the distribution of the Amount feature is highly skewed to the right, with a long tail to the right. This indicates that the majority of the transactions have low amounts, while a few transactions have extremely high amounts. As a result, this suggests that the dataset contains some outliers in terms of transaction amounts. Therefore, when building a model for fraud detection, it may be necessary to handle outliers in the Amount feature, for instance, by using a log transformation or robust statistical methods."
   ]
  },
  {
   "cell_type": "code",
   "execution_count": 7,
   "id": "07e9dc88",
   "metadata": {},
   "outputs": [
    {
     "data": {
      "text/plain": [
       "Text(0.5, 0, '0:Non-Fraudulent, 1:Fraudulent')"
      ]
     },
     "execution_count": 7,
     "metadata": {},
     "output_type": "execute_result"
    },
    {
     "data": {
      "image/png": "[encoded data removed]",
      "text/plain": [
       "<Figure size 1000x800 with 1 Axes>"
      ]
     },
     "metadata": {},
     "output_type": "display_data"
    }
   ],
   "source": [
    "#Bar plot of Fraudulent vs. Non-Fraudulent Transactions\n",
    "plt.figure(figsize=(10,8))\n",
    "sns.barplot(x=df['Class'].value_counts().index, y=df['Class'].value_counts(), color='blue')\n",
    "plt.title('Fraudulent vs. Non-Fraudulent Transactions')\n",
    "plt.ylabel('Count')\n",
    "plt.xlabel('0:Non-Fraudulent, 1:Fraudulent')"
   ]
  },
  {
   "cell_type": "markdown",
   "id": "90b3c37b",
   "metadata": {},
   "source": [
    "From the plot, we can observe that the dataset is highly imbalanced, with a vast majority of transactions being non-fraudulent (class 0) and a relatively small number of transactions being fraudulent (class 1). This indicates that the dataset has a class imbalance problem, which may affect the performance of a model trained on this dataset. It may be necessary to use techniques such as oversampling, undersampling, or class weighting to handle the class imbalance problem when building a model for fraud detection."
   ]
  },
  {
   "cell_type": "code",
   "execution_count": 8,
   "id": "079d3d7b",
   "metadata": {},
   "outputs": [
    {
     "name": "stdout",
     "output_type": "stream",
     "text": [
      "Fraudulent: 492, Non-fraudulent: 284315\n",
      "Ratio of fraud to non-fraud: 492/284315 (0.173%)\n"
     ]
    }
   ],
   "source": [
    "# Counting number of fraud vs non-fraud transactions and displaying them with their ratio\n",
    "fraud = df['Class'].value_counts()[1]\n",
    "nonfraud = df['Class'].value_counts()[0]\n",
    "print(f'Fraudulent: {fraud}, Non-fraudulent: {nonfraud}')\n",
    "print(f'Ratio of fraud to non-fraud: {fraud}/{nonfraud} ({fraud/nonfraud*100:.3f}%)')"
   ]
  },
  {
   "cell_type": "markdown",
   "id": "b7036509",
   "metadata": {},
   "source": [
    "## DATA PROCESSING"
   ]
  },
  {
   "cell_type": "code",
   "execution_count": 10,
   "id": "499dec98",
   "metadata": {},
   "outputs": [
    {
     "data": {
      "text/plain": [
       "<AxesSubplot:>"
      ]
     },
     "execution_count": 10,
     "metadata": {},
     "output_type": "execute_result"
    },
    {
     "data": {
      "image/png": "[encoded data removed]",
      "text/plain": [
       "<Figure size 1000x800 with 2 Axes>"
      ]
     },
     "metadata": {},
     "output_type": "display_data"
    }
   ],
   "source": [
    "## Plotting heatmap to find any high correlations between variables\n",
    "plt.figure(figsize=(10,8))\n",
    "sns.heatmap(data=df.corr(), cmap=\"seismic\", annot=False)"
   ]
  },
  {
   "cell_type": "markdown",
   "id": "375212bf",
   "metadata": {},
   "source": [
    "From the heatmap, it can be observed that there are no strong positive or negative correlations between any pairs of variables in the dataset. The strongest correlations are found:\n",
    "\n",
    "Time and V3, with a correlation coefficient of -0.42\n",
    "Amount and V2, with a correlation coefficient of -0.53\n",
    "Amount and V4, with a correlation coefficient of 0.4. \n",
    "Although these correlations are relatively high, the risk of multicollinearity is not expected to be significant. Overall, the heatmap suggests that there are no highly correlated variables that need to be removed before building a machine learning model."
   ]
  },
  {
   "cell_type": "code",
   "execution_count": 11,
   "id": "41162d99",
   "metadata": {},
   "outputs": [
    {
     "data": {
      "image/png": "[encoded data removed]",
      "text/plain": [
       "<Figure size 1200x600 with 2 Axes>"
      ]
     },
     "metadata": {},
     "output_type": "display_data"
    }
   ],
   "source": [
    "fig,ax=plt.subplots(nrows=2,ncols=1,figsize=(12,6))\n",
    "ax[0].hist(df['Time'][df['Class']==0],bins=40)\n",
    "ax[1].hist(df['Time'][df['Class']==1],bins=40)\n",
    "ax[0].set_title('non-Fraud')\n",
    "ax[0].set_title('non-Fraud')\n",
    "plt.xlabel('Time')\n",
    "plt.ylabel('TRANSACTION')\n",
    "plt.tight_layout()"
   ]
  },
  {
   "cell_type": "markdown",
   "id": "153dc035",
   "metadata": {},
   "source": [
    "## MODELING"
   ]
  },
  {
   "cell_type": "markdown",
   "id": "befc7f4a",
   "metadata": {},
   "source": [
    "The \"Credit Card Fraud Detection\" dataset has credit card transactions labeled as fraudulent or not. The dataset is imbalanced, so it needs a model that can accurately detect fraudulent transactions without wrongly flagging non-fraudulent transactions. \n",
    "\n",
    "To help with classification problems, StandardScaler standardizes data by giving it a mean of 0 and a standard deviation of 1, which results in a normal distribution. This technique works well when dealing with a wide range of amounts and time. To scale the data, the training set is used to initialize the fit, and the train, validation, and test sets are then scaled before running them into the models. \n",
    "\n",
    "The dataset was divided into 60% for training, 20% for validation, and 20% for testing. To balance the imbalanced dataset, Random Undersampling was used to match the number of fraudulent transactions. Logistic Regression and Random Forest models were used, and good results were produced. \n",
    "\n",
    "The commonly used models I used here for the \"Credit Card Fraud Detection\" dataset are Logistic Regression, Random Forest\n",
    "Logistic Regression is widely used for fraud detection because of its interpretability and ability to handle large datasets. \n",
    "Random Forest is commonly used for fraud detection because it can handle complex datasets and is less prone to overfitting. "
   ]
  },
  {
   "cell_type": "code",
   "execution_count": 12,
   "id": "d76e4f2a",
   "metadata": {},
   "outputs": [],
   "source": [
    "# Drop the 'Class' column to prepare data for splitting\n",
    "x = df.drop(columns=['Class'])\n",
    "# Get the target variable\n",
    "y = df['Class']"
   ]
  },
  {
   "cell_type": "code",
   "execution_count": 13,
   "id": "3e8f14b5",
   "metadata": {},
   "outputs": [],
   "source": [
    "from sklearn.model_selection import train_test_split"
   ]
  },
  {
   "cell_type": "code",
   "execution_count": 14,
   "id": "49348b2e",
   "metadata": {},
   "outputs": [],
   "source": [
    "# Split data into training, and test sets, ensuring the class distribution is maintained\n",
    "x_train,x_test,y_train,y_test=train_test_split(x,y,test_size=0.3,random_state=200)"
   ]
  },
  {
   "cell_type": "code",
   "execution_count": 15,
   "id": "2df301e4",
   "metadata": {},
   "outputs": [
    {
     "data": {
      "text/html": [
       "<div>\n",
       "<style scoped>\n",
       "    .dataframe tbody tr th:only-of-type {\n",
       "        vertical-align: middle;\n",
       "    }\n",
       "\n",
       "    .dataframe tbody tr th {\n",
       "        vertical-align: top;\n",
       "    }\n",
       "\n",
       "    .dataframe thead th {\n",
       "        text-align: right;\n",
       "    }\n",
       "</style>\n",
       "<table border=\"1\" class=\"dataframe\">\n",
       "  <thead>\n",
       "    <tr style=\"text-align: right;\">\n",
       "      <th></th>\n",
       "      <th>Time</th>\n",
       "      <th>V1</th>\n",
       "      <th>V2</th>\n",
       "      <th>V3</th>\n",
       "      <th>V4</th>\n",
       "      <th>V5</th>\n",
       "      <th>V6</th>\n",
       "      <th>V7</th>\n",
       "      <th>V8</th>\n",
       "      <th>V9</th>\n",
       "      <th>...</th>\n",
       "      <th>V20</th>\n",
       "      <th>V21</th>\n",
       "      <th>V22</th>\n",
       "      <th>V23</th>\n",
       "      <th>V24</th>\n",
       "      <th>V25</th>\n",
       "      <th>V26</th>\n",
       "      <th>V27</th>\n",
       "      <th>V28</th>\n",
       "      <th>Amount</th>\n",
       "    </tr>\n",
       "  </thead>\n",
       "  <tbody>\n",
       "    <tr>\n",
       "      <th>150644</th>\n",
       "      <td>93823.0</td>\n",
       "      <td>-3.821939</td>\n",
       "      <td>5.667247</td>\n",
       "      <td>-9.244963</td>\n",
       "      <td>8.246147</td>\n",
       "      <td>-4.368286</td>\n",
       "      <td>-3.450735</td>\n",
       "      <td>-8.427378</td>\n",
       "      <td>2.305609</td>\n",
       "      <td>-5.338079</td>\n",
       "      <td>...</td>\n",
       "      <td>1.115247</td>\n",
       "      <td>1.990520</td>\n",
       "      <td>0.083353</td>\n",
       "      <td>-0.062264</td>\n",
       "      <td>0.390188</td>\n",
       "      <td>0.329884</td>\n",
       "      <td>0.098017</td>\n",
       "      <td>1.869570</td>\n",
       "      <td>1.000850</td>\n",
       "      <td>75.86</td>\n",
       "    </tr>\n",
       "    <tr>\n",
       "      <th>284683</th>\n",
       "      <td>172676.0</td>\n",
       "      <td>1.915474</td>\n",
       "      <td>-0.217019</td>\n",
       "      <td>-0.521731</td>\n",
       "      <td>1.274430</td>\n",
       "      <td>-0.124715</td>\n",
       "      <td>0.351640</td>\n",
       "      <td>-0.502276</td>\n",
       "      <td>0.170470</td>\n",
       "      <td>0.773668</td>\n",
       "      <td>...</td>\n",
       "      <td>-0.229787</td>\n",
       "      <td>0.259944</td>\n",
       "      <td>1.013752</td>\n",
       "      <td>0.060780</td>\n",
       "      <td>0.726831</td>\n",
       "      <td>0.154690</td>\n",
       "      <td>-0.480588</td>\n",
       "      <td>0.047439</td>\n",
       "      <td>-0.042786</td>\n",
       "      <td>5.90</td>\n",
       "    </tr>\n",
       "    <tr>\n",
       "      <th>11821</th>\n",
       "      <td>20291.0</td>\n",
       "      <td>1.188218</td>\n",
       "      <td>-0.265995</td>\n",
       "      <td>1.028003</td>\n",
       "      <td>-0.570025</td>\n",
       "      <td>-0.897195</td>\n",
       "      <td>-0.288048</td>\n",
       "      <td>-0.683397</td>\n",
       "      <td>-0.016821</td>\n",
       "      <td>2.997323</td>\n",
       "      <td>...</td>\n",
       "      <td>-0.136653</td>\n",
       "      <td>-0.121334</td>\n",
       "      <td>0.193611</td>\n",
       "      <td>-0.011301</td>\n",
       "      <td>0.056384</td>\n",
       "      <td>0.423882</td>\n",
       "      <td>-0.698840</td>\n",
       "      <td>0.086034</td>\n",
       "      <td>0.028664</td>\n",
       "      <td>10.85</td>\n",
       "    </tr>\n",
       "    <tr>\n",
       "      <th>105363</th>\n",
       "      <td>69485.0</td>\n",
       "      <td>1.280914</td>\n",
       "      <td>-0.678647</td>\n",
       "      <td>0.510401</td>\n",
       "      <td>-0.021436</td>\n",
       "      <td>-0.860837</td>\n",
       "      <td>0.418607</td>\n",
       "      <td>-0.856899</td>\n",
       "      <td>0.276844</td>\n",
       "      <td>-0.456776</td>\n",
       "      <td>...</td>\n",
       "      <td>-0.634473</td>\n",
       "      <td>-0.431930</td>\n",
       "      <td>-0.581050</td>\n",
       "      <td>0.010893</td>\n",
       "      <td>-0.318288</td>\n",
       "      <td>0.338770</td>\n",
       "      <td>0.450009</td>\n",
       "      <td>0.017050</td>\n",
       "      <td>-0.003732</td>\n",
       "      <td>1.00</td>\n",
       "    </tr>\n",
       "    <tr>\n",
       "      <th>168046</th>\n",
       "      <td>119043.0</td>\n",
       "      <td>2.110011</td>\n",
       "      <td>-0.129116</td>\n",
       "      <td>-1.371511</td>\n",
       "      <td>0.262318</td>\n",
       "      <td>0.118868</td>\n",
       "      <td>-0.838070</td>\n",
       "      <td>0.114082</td>\n",
       "      <td>-0.243813</td>\n",
       "      <td>0.714112</td>\n",
       "      <td>...</td>\n",
       "      <td>-0.254634</td>\n",
       "      <td>-0.344101</td>\n",
       "      <td>-0.894192</td>\n",
       "      <td>0.264555</td>\n",
       "      <td>-0.677372</td>\n",
       "      <td>-0.234213</td>\n",
       "      <td>0.241541</td>\n",
       "      <td>-0.077081</td>\n",
       "      <td>-0.068689</td>\n",
       "      <td>1.98</td>\n",
       "    </tr>\n",
       "    <tr>\n",
       "      <th>...</th>\n",
       "      <td>...</td>\n",
       "      <td>...</td>\n",
       "      <td>...</td>\n",
       "      <td>...</td>\n",
       "      <td>...</td>\n",
       "      <td>...</td>\n",
       "      <td>...</td>\n",
       "      <td>...</td>\n",
       "      <td>...</td>\n",
       "      <td>...</td>\n",
       "      <td>...</td>\n",
       "      <td>...</td>\n",
       "      <td>...</td>\n",
       "      <td>...</td>\n",
       "      <td>...</td>\n",
       "      <td>...</td>\n",
       "      <td>...</td>\n",
       "      <td>...</td>\n",
       "      <td>...</td>\n",
       "      <td>...</td>\n",
       "      <td>...</td>\n",
       "    </tr>\n",
       "    <tr>\n",
       "      <th>227547</th>\n",
       "      <td>145118.0</td>\n",
       "      <td>-2.385402</td>\n",
       "      <td>2.694298</td>\n",
       "      <td>-1.559728</td>\n",
       "      <td>-1.093803</td>\n",
       "      <td>0.461760</td>\n",
       "      <td>-0.878016</td>\n",
       "      <td>0.985802</td>\n",
       "      <td>-0.023828</td>\n",
       "      <td>1.973455</td>\n",
       "      <td>...</td>\n",
       "      <td>1.233881</td>\n",
       "      <td>-0.739629</td>\n",
       "      <td>-0.969840</td>\n",
       "      <td>0.234132</td>\n",
       "      <td>0.467902</td>\n",
       "      <td>0.085477</td>\n",
       "      <td>0.114407</td>\n",
       "      <td>0.821430</td>\n",
       "      <td>0.281757</td>\n",
       "      <td>17.99</td>\n",
       "    </tr>\n",
       "    <tr>\n",
       "      <th>177847</th>\n",
       "      <td>123369.0</td>\n",
       "      <td>1.782141</td>\n",
       "      <td>-0.593134</td>\n",
       "      <td>-1.393531</td>\n",
       "      <td>0.256798</td>\n",
       "      <td>-0.256413</td>\n",
       "      <td>-0.989643</td>\n",
       "      <td>0.196439</td>\n",
       "      <td>-0.227141</td>\n",
       "      <td>0.248380</td>\n",
       "      <td>...</td>\n",
       "      <td>0.004792</td>\n",
       "      <td>0.340797</td>\n",
       "      <td>0.752416</td>\n",
       "      <td>-0.049647</td>\n",
       "      <td>0.079509</td>\n",
       "      <td>-0.072269</td>\n",
       "      <td>0.756462</td>\n",
       "      <td>-0.119480</td>\n",
       "      <td>-0.059778</td>\n",
       "      <td>131.40</td>\n",
       "    </tr>\n",
       "    <tr>\n",
       "      <th>256810</th>\n",
       "      <td>157877.0</td>\n",
       "      <td>2.111294</td>\n",
       "      <td>0.317328</td>\n",
       "      <td>-2.495331</td>\n",
       "      <td>1.181324</td>\n",
       "      <td>1.031098</td>\n",
       "      <td>-1.151331</td>\n",
       "      <td>0.931180</td>\n",
       "      <td>-0.431308</td>\n",
       "      <td>-0.040300</td>\n",
       "      <td>...</td>\n",
       "      <td>-0.392207</td>\n",
       "      <td>0.277230</td>\n",
       "      <td>0.897966</td>\n",
       "      <td>-0.169974</td>\n",
       "      <td>0.651934</td>\n",
       "      <td>0.839757</td>\n",
       "      <td>-0.215343</td>\n",
       "      <td>-0.066201</td>\n",
       "      <td>-0.077032</td>\n",
       "      <td>1.00</td>\n",
       "    </tr>\n",
       "    <tr>\n",
       "      <th>12905</th>\n",
       "      <td>22666.0</td>\n",
       "      <td>1.206553</td>\n",
       "      <td>-0.205390</td>\n",
       "      <td>1.193460</td>\n",
       "      <td>-0.443671</td>\n",
       "      <td>-1.235657</td>\n",
       "      <td>-0.942281</td>\n",
       "      <td>-0.591043</td>\n",
       "      <td>-0.181820</td>\n",
       "      <td>2.964621</td>\n",
       "      <td>...</td>\n",
       "      <td>-0.107512</td>\n",
       "      <td>-0.125863</td>\n",
       "      <td>0.146266</td>\n",
       "      <td>-0.002519</td>\n",
       "      <td>0.696536</td>\n",
       "      <td>0.455966</td>\n",
       "      <td>-0.749166</td>\n",
       "      <td>0.070392</td>\n",
       "      <td>0.035753</td>\n",
       "      <td>11.85</td>\n",
       "    </tr>\n",
       "    <tr>\n",
       "      <th>1818</th>\n",
       "      <td>1410.0</td>\n",
       "      <td>-1.279127</td>\n",
       "      <td>1.273667</td>\n",
       "      <td>1.308744</td>\n",
       "      <td>-0.836249</td>\n",
       "      <td>-0.378374</td>\n",
       "      <td>-0.768231</td>\n",
       "      <td>0.553704</td>\n",
       "      <td>0.195372</td>\n",
       "      <td>0.525151</td>\n",
       "      <td>...</td>\n",
       "      <td>0.305850</td>\n",
       "      <td>-0.235408</td>\n",
       "      <td>-0.415838</td>\n",
       "      <td>-0.016208</td>\n",
       "      <td>0.500206</td>\n",
       "      <td>-0.170307</td>\n",
       "      <td>0.281936</td>\n",
       "      <td>0.604926</td>\n",
       "      <td>0.352470</td>\n",
       "      <td>5.00</td>\n",
       "    </tr>\n",
       "  </tbody>\n",
       "</table>\n",
       "<p>199364 rows × 30 columns</p>\n",
       "</div>"
      ],
      "text/plain": [
       "            Time        V1        V2        V3        V4        V5        V6  \\\n",
       "150644   93823.0 -3.821939  5.667247 -9.244963  8.246147 -4.368286 -3.450735   \n",
       "284683  172676.0  1.915474 -0.217019 -0.521731  1.274430 -0.124715  0.351640   \n",
       "11821    20291.0  1.188218 -0.265995  1.028003 -0.570025 -0.897195 -0.288048   \n",
       "105363   69485.0  1.280914 -0.678647  0.510401 -0.021436 -0.860837  0.418607   \n",
       "168046  119043.0  2.110011 -0.129116 -1.371511  0.262318  0.118868 -0.838070   \n",
       "...          ...       ...       ...       ...       ...       ...       ...   \n",
       "227547  145118.0 -2.385402  2.694298 -1.559728 -1.093803  0.461760 -0.878016   \n",
       "177847  123369.0  1.782141 -0.593134 -1.393531  0.256798 -0.256413 -0.989643   \n",
       "256810  157877.0  2.111294  0.317328 -2.495331  1.181324  1.031098 -1.151331   \n",
       "12905    22666.0  1.206553 -0.205390  1.193460 -0.443671 -1.235657 -0.942281   \n",
       "1818      1410.0 -1.279127  1.273667  1.308744 -0.836249 -0.378374 -0.768231   \n",
       "\n",
       "              V7        V8        V9  ...       V20       V21       V22  \\\n",
       "150644 -8.427378  2.305609 -5.338079  ...  1.115247  1.990520  0.083353   \n",
       "284683 -0.502276  0.170470  0.773668  ... -0.229787  0.259944  1.013752   \n",
       "11821  -0.683397 -0.016821  2.997323  ... -0.136653 -0.121334  0.193611   \n",
       "105363 -0.856899  0.276844 -0.456776  ... -0.634473 -0.431930 -0.581050   \n",
       "168046  0.114082 -0.243813  0.714112  ... -0.254634 -0.344101 -0.894192   \n",
       "...          ...       ...       ...  ...       ...       ...       ...   \n",
       "227547  0.985802 -0.023828  1.973455  ...  1.233881 -0.739629 -0.969840   \n",
       "177847  0.196439 -0.227141  0.248380  ...  0.004792  0.340797  0.752416   \n",
       "256810  0.931180 -0.431308 -0.040300  ... -0.392207  0.277230  0.897966   \n",
       "12905  -0.591043 -0.181820  2.964621  ... -0.107512 -0.125863  0.146266   \n",
       "1818    0.553704  0.195372  0.525151  ...  0.305850 -0.235408 -0.415838   \n",
       "\n",
       "             V23       V24       V25       V26       V27       V28  Amount  \n",
       "150644 -0.062264  0.390188  0.329884  0.098017  1.869570  1.000850   75.86  \n",
       "284683  0.060780  0.726831  0.154690 -0.480588  0.047439 -0.042786    5.90  \n",
       "11821  -0.011301  0.056384  0.423882 -0.698840  0.086034  0.028664   10.85  \n",
       "105363  0.010893 -0.318288  0.338770  0.450009  0.017050 -0.003732    1.00  \n",
       "168046  0.264555 -0.677372 -0.234213  0.241541 -0.077081 -0.068689    1.98  \n",
       "...          ...       ...       ...       ...       ...       ...     ...  \n",
       "227547  0.234132  0.467902  0.085477  0.114407  0.821430  0.281757   17.99  \n",
       "177847 -0.049647  0.079509 -0.072269  0.756462 -0.119480 -0.059778  131.40  \n",
       "256810 -0.169974  0.651934  0.839757 -0.215343 -0.066201 -0.077032    1.00  \n",
       "12905  -0.002519  0.696536  0.455966 -0.749166  0.070392  0.035753   11.85  \n",
       "1818   -0.016208  0.500206 -0.170307  0.281936  0.604926  0.352470    5.00  \n",
       "\n",
       "[199364 rows x 30 columns]"
      ]
     },
     "execution_count": 15,
     "metadata": {},
     "output_type": "execute_result"
    }
   ],
   "source": [
    "x_train"
   ]
  },
  {
   "cell_type": "markdown",
   "id": "0334e2e0",
   "metadata": {},
   "source": [
    "#### Using Logistic regression \n",
    "#### 1)Without standard scaling and undersampling and over sampling "
   ]
  },
  {
   "cell_type": "code",
   "execution_count": 16,
   "id": "85c63940",
   "metadata": {},
   "outputs": [],
   "source": [
    "# Logistic Regression\n",
    "from sklearn.linear_model import LogisticRegression"
   ]
  },
  {
   "cell_type": "code",
   "execution_count": 17,
   "id": "3eb08cc5",
   "metadata": {},
   "outputs": [],
   "source": [
    "logmodel=LogisticRegression()"
   ]
  },
  {
   "cell_type": "code",
   "execution_count": 18,
   "id": "a22daaae",
   "metadata": {},
   "outputs": [
    {
     "name": "stderr",
     "output_type": "stream",
     "text": [
      "C:\\Users\\yukti\\anaconda3\\lib\\site-packages\\sklearn\\linear_model\\_logistic.py:814: ConvergenceWarning: lbfgs failed to converge (status=1):\n",
      "STOP: TOTAL NO. of ITERATIONS REACHED LIMIT.\n",
      "\n",
      "Increase the number of iterations (max_iter) or scale the data as shown in:\n",
      "    https://scikit-learn.org/stable/modules/preprocessing.html\n",
      "Please also refer to the documentation for alternative solver options:\n",
      "    https://scikit-learn.org/stable/modules/linear_model.html#logistic-regression\n",
      "  n_iter_i = _check_optimize_result(\n"
     ]
    },
    {
     "data": {
      "text/plain": [
       "LogisticRegression()"
      ]
     },
     "execution_count": 18,
     "metadata": {},
     "output_type": "execute_result"
    }
   ],
   "source": [
    "logmodel.fit(x_train,y_train)"
   ]
  },
  {
   "cell_type": "code",
   "execution_count": 19,
   "id": "91105663",
   "metadata": {},
   "outputs": [],
   "source": [
    "predictions=logmodel.predict(x_test)"
   ]
  },
  {
   "cell_type": "code",
   "execution_count": 20,
   "id": "e3222579",
   "metadata": {},
   "outputs": [],
   "source": [
    "from sklearn.metrics import classification_report"
   ]
  },
  {
   "cell_type": "code",
   "execution_count": 21,
   "id": "e383080d",
   "metadata": {},
   "outputs": [
    {
     "name": "stdout",
     "output_type": "stream",
     "text": [
      "              precision    recall  f1-score   support\n",
      "\n",
      "           0       1.00      1.00      1.00     85301\n",
      "           1       0.69      0.75      0.72       142\n",
      "\n",
      "    accuracy                           1.00     85443\n",
      "   macro avg       0.84      0.88      0.86     85443\n",
      "weighted avg       1.00      1.00      1.00     85443\n",
      "\n"
     ]
    }
   ],
   "source": [
    "print(classification_report(y_test,predictions))"
   ]
  },
  {
   "cell_type": "code",
   "execution_count": 22,
   "id": "c57d5ef4",
   "metadata": {},
   "outputs": [],
   "source": [
    "from sklearn.metrics import confusion_matrix"
   ]
  },
  {
   "cell_type": "code",
   "execution_count": 23,
   "id": "7b571eb5",
   "metadata": {},
   "outputs": [
    {
     "name": "stdout",
     "output_type": "stream",
     "text": [
      "[[85253    48]\n",
      " [   35   107]]\n"
     ]
    }
   ],
   "source": [
    "print(confusion_matrix(y_test,predictions))"
   ]
  },
  {
   "cell_type": "code",
   "execution_count": 24,
   "id": "4dc11d10",
   "metadata": {},
   "outputs": [
    {
     "name": "stdout",
     "output_type": "stream",
     "text": [
      "ACCURACY:0.9990285921608558\n"
     ]
    }
   ],
   "source": [
    "print('ACCURACY:{}'.format(accuracy_score(y_test,predictions)))"
   ]
  },
  {
   "cell_type": "code",
   "execution_count": 35,
   "id": "ea83c73a",
   "metadata": {},
   "outputs": [
    {
     "name": "stderr",
     "output_type": "stream",
     "text": [
      "C:\\Users\\yukti\\anaconda3\\lib\\site-packages\\sklearn\\utils\\deprecation.py:87: FutureWarning: Function plot_confusion_matrix is deprecated; Function `plot_confusion_matrix` is deprecated in 1.0 and will be removed in 1.2. Use one of the class methods: ConfusionMatrixDisplay.from_predictions or ConfusionMatrixDisplay.from_estimator.\n",
      "  warnings.warn(msg, category=FutureWarning)\n"
     ]
    },
    {
     "data": {
      "text/plain": [
       "<sklearn.metrics._plot.confusion_matrix.ConfusionMatrixDisplay at 0x233c25df6d0>"
      ]
     },
     "execution_count": 35,
     "metadata": {},
     "output_type": "execute_result"
    },
    {
     "data": {
      "image/png": "[encoded data removed]",
      "text/plain": [
       "<Figure size 640x480 with 2 Axes>"
      ]
     },
     "metadata": {},
     "output_type": "display_data"
    }
   ],
   "source": [
    "from sklearn.metrics import plot_confusion_matrix\n",
    "plot_confusion_matrix(logmodel,x_test,y_test)"
   ]
  },
  {
   "cell_type": "markdown",
   "id": "d3665c0e",
   "metadata": {},
   "source": [
    "#### using standard scaler and undersampling "
   ]
  },
  {
   "cell_type": "code",
   "execution_count": 36,
   "id": "f3e9027b",
   "metadata": {},
   "outputs": [],
   "source": [
    "df_clean=df.copy()"
   ]
  },
  {
   "cell_type": "code",
   "execution_count": 37,
   "id": "1f770236",
   "metadata": {},
   "outputs": [],
   "source": [
    "## Initialize the StandardScaler object and fit it to the training data\n",
    "scaler = StandardScaler()"
   ]
  },
  {
   "cell_type": "code",
   "execution_count": 38,
   "id": "29d33e03",
   "metadata": {},
   "outputs": [],
   "source": [
    "# Scale the training, validation, and test sets using the scaler\n",
    "df_clean['std_amount']=scaler.fit_transform(df_clean['Amount'].values.reshape(-1,1))\n",
    "df_clean['std_time']=scaler.fit_transform(df_clean['Time'].values.reshape(-1,1))\n",
    "df_clean.drop(['Time','Amount'],axis=1,inplace=True)"
   ]
  },
  {
   "cell_type": "code",
   "execution_count": 39,
   "id": "afe9cb15",
   "metadata": {},
   "outputs": [],
   "source": [
    "X=df_clean.drop('Class',axis=1)\n",
    "Y=df['Class']\n",
    "X_train,X_test,Y_train,Y_test=train_test_split(X,Y,random_state=200)"
   ]
  },
  {
   "cell_type": "code",
   "execution_count": 40,
   "id": "b5e5438b",
   "metadata": {},
   "outputs": [
    {
     "name": "stdout",
     "output_type": "stream",
     "text": [
      "Requirement already satisfied: imblearn in c:\\users\\yukti\\anaconda3\\lib\\site-packages (0.0)\n",
      "Requirement already satisfied: imbalanced-learn in c:\\users\\yukti\\anaconda3\\lib\\site-packages (from imblearn) (0.10.1)\n",
      "Requirement already satisfied: numpy>=1.17.3 in c:\\users\\yukti\\anaconda3\\lib\\site-packages (from imbalanced-learn->imblearn) (1.21.5)\n",
      "Requirement already satisfied: threadpoolctl>=2.0.0 in c:\\users\\yukti\\anaconda3\\lib\\site-packages (from imbalanced-learn->imblearn) (2.2.0)\n",
      "Requirement already satisfied: joblib>=1.1.1 in c:\\users\\yukti\\anaconda3\\lib\\site-packages (from imbalanced-learn->imblearn) (1.2.0)\n",
      "Requirement already satisfied: scipy>=1.3.2 in c:\\users\\yukti\\anaconda3\\lib\\site-packages (from imbalanced-learn->imblearn) (1.9.1)\n",
      "Requirement already satisfied: scikit-learn>=1.0.2 in c:\\users\\yukti\\anaconda3\\lib\\site-packages (from imbalanced-learn->imblearn) (1.0.2)\n"
     ]
    }
   ],
   "source": [
    "!pip3 install imblearn"
   ]
  },
  {
   "cell_type": "code",
   "execution_count": 41,
   "id": "31bf81a9",
   "metadata": {},
   "outputs": [],
   "source": [
    "# Undersampling will be utilized to address the issue of imbalanced classes.\n",
    "\n",
    "from imblearn.under_sampling import RandomUnderSampler"
   ]
  },
  {
   "cell_type": "code",
   "execution_count": 43,
   "id": "364ff341",
   "metadata": {},
   "outputs": [],
   "source": [
    "# Instantiate RandomUnderSampler\n",
    "rus = RandomUnderSampler()"
   ]
  },
  {
   "cell_type": "code",
   "execution_count": 44,
   "id": "5b8523a8",
   "metadata": {},
   "outputs": [],
   "source": [
    "X_rus, Y_rus = rus.fit_resample(X_train, Y_train)"
   ]
  },
  {
   "cell_type": "code",
   "execution_count": 45,
   "id": "f7ce8086",
   "metadata": {},
   "outputs": [
    {
     "name": "stderr",
     "output_type": "stream",
     "text": [
      "C:\\Users\\yukti\\anaconda3\\lib\\site-packages\\seaborn\\_decorators.py:36: FutureWarning: Pass the following variable as a keyword arg: x. From version 0.12, the only valid positional argument will be `data`, and passing other arguments without an explicit keyword will result in an error or misinterpretation.\n",
      "  warnings.warn(\n"
     ]
    },
    {
     "data": {
      "text/plain": [
       "<AxesSubplot:xlabel='Class', ylabel='count'>"
      ]
     },
     "execution_count": 45,
     "metadata": {},
     "output_type": "execute_result"
    },
    {
     "data": {
      "image/png": "[encoded data removed]",
      "text/plain": [
       "<Figure size 640x480 with 1 Axes>"
      ]
     },
     "metadata": {},
     "output_type": "display_data"
    }
   ],
   "source": [
    "sns.countplot(Y_rus)"
   ]
  },
  {
   "cell_type": "code",
   "execution_count": 46,
   "id": "c11e436a",
   "metadata": {},
   "outputs": [
    {
     "data": {
      "text/plain": [
       "LogisticRegression()"
      ]
     },
     "execution_count": 46,
     "metadata": {},
     "output_type": "execute_result"
    }
   ],
   "source": [
    "logmodel.fit(X_rus,Y_rus)"
   ]
  },
  {
   "cell_type": "code",
   "execution_count": 47,
   "id": "8b34d091",
   "metadata": {},
   "outputs": [],
   "source": [
    "predictions1=logmodel.predict(X_test)"
   ]
  },
  {
   "cell_type": "code",
   "execution_count": 48,
   "id": "20299cf4",
   "metadata": {},
   "outputs": [
    {
     "name": "stdout",
     "output_type": "stream",
     "text": [
      "              precision    recall  f1-score   support\n",
      "\n",
      "           0       1.00      0.98      0.99     71082\n",
      "           1       0.06      0.93      0.11       120\n",
      "\n",
      "    accuracy                           0.97     71202\n",
      "   macro avg       0.53      0.95      0.55     71202\n",
      "weighted avg       1.00      0.97      0.99     71202\n",
      "\n"
     ]
    }
   ],
   "source": [
    "print(classification_report(Y_test,predictions1))"
   ]
  },
  {
   "cell_type": "code",
   "execution_count": 54,
   "id": "d5493206",
   "metadata": {},
   "outputs": [
    {
     "name": "stdout",
     "output_type": "stream",
     "text": [
      "ACCURACY:0.9749726131288446\n"
     ]
    }
   ],
   "source": [
    "print('ACCURACY:{}'.format(accuracy_score(Y_test,predictions1)))"
   ]
  },
  {
   "cell_type": "code",
   "execution_count": 50,
   "id": "06c6b4b7",
   "metadata": {},
   "outputs": [
    {
     "name": "stdout",
     "output_type": "stream",
     "text": [
      "[[69308  1774]\n",
      " [    8   112]]\n"
     ]
    }
   ],
   "source": [
    "print(confusion_matrix(Y_test,predictions1))"
   ]
  },
  {
   "cell_type": "code",
   "execution_count": 51,
   "id": "92f68a0c",
   "metadata": {},
   "outputs": [],
   "source": [
    "!pip install -q scikit-plot"
   ]
  },
  {
   "cell_type": "code",
   "execution_count": 52,
   "id": "7d7d60d5",
   "metadata": {},
   "outputs": [],
   "source": [
    "import scikitplot as skplt"
   ]
  },
  {
   "cell_type": "code",
   "execution_count": 53,
   "id": "16c9f0d1",
   "metadata": {},
   "outputs": [
    {
     "data": {
      "text/plain": [
       "<AxesSubplot:title={'center':'Normalized Confusion Matrix'}, xlabel='Predicted label', ylabel='True label'>"
      ]
     },
     "execution_count": 53,
     "metadata": {},
     "output_type": "execute_result"
    },
    {
     "data": {
      "image/png": "[encoded data removed]",
      "text/plain": [
       "<Figure size 640x480 with 2 Axes>"
      ]
     },
     "metadata": {},
     "output_type": "display_data"
    }
   ],
   "source": [
    "skplt.metrics.plot_confusion_matrix(Y_test,predictions1,normalize=True)"
   ]
  },
  {
   "cell_type": "markdown",
   "id": "3073963e",
   "metadata": {},
   "source": [
    "### Using RANDOM FOREST"
   ]
  },
  {
   "cell_type": "code",
   "execution_count": 55,
   "id": "ce432e77",
   "metadata": {},
   "outputs": [],
   "source": [
    "from sklearn.ensemble import RandomForestClassifier"
   ]
  },
  {
   "cell_type": "code",
   "execution_count": 56,
   "id": "e098a128",
   "metadata": {},
   "outputs": [],
   "source": [
    "rfc = RandomForestClassifier(n_estimators=600)"
   ]
  },
  {
   "cell_type": "code",
   "execution_count": 57,
   "id": "6167e538",
   "metadata": {},
   "outputs": [
    {
     "data": {
      "text/plain": [
       "RandomForestClassifier(n_estimators=600)"
      ]
     },
     "execution_count": 57,
     "metadata": {},
     "output_type": "execute_result"
    }
   ],
   "source": [
    "rfc.fit(X_rus,Y_rus)"
   ]
  },
  {
   "cell_type": "code",
   "execution_count": 58,
   "id": "052e4e12",
   "metadata": {},
   "outputs": [],
   "source": [
    "predictions2 = rfc.predict(X_test)"
   ]
  },
  {
   "cell_type": "code",
   "execution_count": 59,
   "id": "a7a39556",
   "metadata": {},
   "outputs": [
    {
     "name": "stdout",
     "output_type": "stream",
     "text": [
      "              precision    recall  f1-score   support\n",
      "\n",
      "           0       1.00      0.98      0.99     71082\n",
      "           1       0.08      0.90      0.15       120\n",
      "\n",
      "    accuracy                           0.98     71202\n",
      "   macro avg       0.54      0.94      0.57     71202\n",
      "weighted avg       1.00      0.98      0.99     71202\n",
      "\n"
     ]
    }
   ],
   "source": [
    "print(classification_report(Y_test,predictions2))"
   ]
  },
  {
   "cell_type": "code",
   "execution_count": 60,
   "id": "34125001",
   "metadata": {},
   "outputs": [
    {
     "name": "stdout",
     "output_type": "stream",
     "text": [
      "ACCURACY:0.9824443133619842\n"
     ]
    }
   ],
   "source": [
    "print('ACCURACY:{}'.format(accuracy_score(Y_test,predictions2)))"
   ]
  },
  {
   "cell_type": "code",
   "execution_count": 62,
   "id": "4df2f394",
   "metadata": {},
   "outputs": [
    {
     "data": {
      "text/plain": [
       "<AxesSubplot:title={'center':'Normalized Confusion Matrix'}, xlabel='Predicted label', ylabel='True label'>"
      ]
     },
     "execution_count": 62,
     "metadata": {},
     "output_type": "execute_result"
    },
    {
     "data": {
      "image/png": "[encoded data removed]",
      "text/plain": [
       "<Figure size 640x480 with 2 Axes>"
      ]
     },
     "metadata": {},
     "output_type": "display_data"
    }
   ],
   "source": [
    "skplt.metrics.plot_confusion_matrix(Y_test,predictions2,normalize=True)"
   ]
  },
  {
   "cell_type": "markdown",
   "id": "34e0bb18",
   "metadata": {},
   "source": [
    "##### Conclusion: \n",
    "After using Random forect we find the accuracy increased from 97.49 in logistic to 98.24 as it first lowers overfitting. Second, by lowering the variance in the trees predictions, it improves the model's stability and accuracy."
   ]
  },
  {
   "cell_type": "code",
   "execution_count": null,
   "id": "ab034eab",
   "metadata": {},
   "outputs": [],
   "source": []
  }
 ],
 "metadata": {
  "kernelspec": {
   "display_name": "Python 3 (ipykernel)",
   "language": "python",
   "name": "python3"
  },
  "language_info": {
   "codemirror_mode": {
    "name": "ipython",
    "version": 3
   },
   "file_extension": ".py",
   "mimetype": "text/x-python",
   "name": "python",
   "nbconvert_exporter": "python",
   "pygments_lexer": "ipython3",
   "version": "3.9.13"
  }
 },
 "nbformat": 4,
 "nbformat_minor": 5
}
